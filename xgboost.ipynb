{
  "nbformat": 4,
  "nbformat_minor": 0,
  "metadata": {
    "accelerator": "GPU",
    "colab": {
      "name": "xgboost.ipynb",
      "provenance": [],
      "private_outputs": true,
      "collapsed_sections": [],
      "toc_visible": true,
      "include_colab_link": true
    },
    "kernelspec": {
      "display_name": "Python 3",
      "name": "python3"
    }
  },
  "cells": [
    {
      "cell_type": "markdown",
      "metadata": {
        "id": "view-in-github",
        "colab_type": "text"
      },
      "source": [
        "<a href=\"https://colab.research.google.com/github/hamzafarooq/time_series/blob/master/xgboost.ipynb\" target=\"_parent\"><img src=\"https://colab.research.google.com/assets/colab-badge.svg\" alt=\"Open In Colab\"/></a>"
      ]
    },
    {
      "cell_type": "markdown",
      "metadata": {
        "colab_type": "text",
        "id": "2Pmxv2ioyCRw"
      },
      "source": [
        "##### Copyright 2019 The TensorFlow Authors."
      ]
    },
    {
      "cell_type": "code",
      "metadata": {
        "cellView": "form",
        "colab_type": "code",
        "id": "b-2ShX25yNWf",
        "colab": {}
      },
      "source": [
        "#@title Licensed under the Apache License, Version 2.0 (the \"License\");\n",
        "# you may not use this file except in compliance with the License.\n",
        "# You may obtain a copy of the License at\n",
        "#\n",
        "# https://www.apache.org/licenses/LICENSE-2.0\n",
        "#\n",
        "# Unless required by applicable law or agreed to in writing, software\n",
        "# distributed under the License is distributed on an \"AS IS\" BASIS,\n",
        "# WITHOUT WARRANTIES OR CONDITIONS OF ANY KIND, either express or implied.\n",
        "# See the License for the specific language governing permissions and\n",
        "# limitations under the License."
      ],
      "execution_count": null,
      "outputs": []
    },
    {
      "cell_type": "markdown",
      "metadata": {
        "colab_type": "text",
        "id": "pa49bUnKyRgF"
      },
      "source": [
        "# Time series forecasting"
      ]
    },
    {
      "cell_type": "code",
      "metadata": {
        "colab_type": "code",
        "id": "7rZnJaGTWQw0",
        "colab": {}
      },
      "source": [
        "import tensorflow as tf\n",
        "\n",
        "import matplotlib as mpl\n",
        "import matplotlib.pyplot as plt\n",
        "import numpy as np\n",
        "import os\n",
        "import pandas as pd\n",
        "\n",
        "mpl.rcParams['figure.figsize'] = (8, 6)\n",
        "mpl.rcParams['axes.grid'] = False"
      ],
      "execution_count": null,
      "outputs": []
    },
    {
      "cell_type": "code",
      "metadata": {
        "id": "ZIFtGuUqTvBR",
        "colab_type": "code",
        "colab": {}
      },
      "source": [
        "import statsmodels.api as sm\n",
        "import numpy as np # linear algebra\n",
        "import pandas as pd # data processing, CSV file I/O (e.g. pd.read_csv)\n",
        "import matplotlib.pyplot as plt\n",
        "import xgboost as xgb\n",
        "from sklearn.metrics import mean_squared_error, mean_absolute_error\n",
        "import imageio\n",
        "import os\n",
        "from statsmodels.graphics.tsaplots import plot_acf"
      ],
      "execution_count": null,
      "outputs": []
    },
    {
      "cell_type": "markdown",
      "metadata": {
        "colab_type": "text",
        "id": "TokBlnUhWFw9"
      },
      "source": [
        "## Iowa Dataset\n",
        "This tutorial uses a <a href=\"https://console.cloud.google.com/marketplace/details/iowa-department-of-commerce/iowa-liquor-sales\" class=\"external\">Iowa Liquor Retails Sales</a>.\n",
        "\n",
        "This dataset contains every wholesale purchase of liquor in the State of Iowa by retailers for sale to individuals since January 1, 2012. The State of Iowa controls the wholesale distribution of liquor intended for retail sale, which means this dataset offers a complete view of retail liquor sales in the entire state. The dataset contains every wholesale order of liquor by all grocery stores, liquor stores, convenience stores, etc., with details about the store and location, the exact liquor brand and size, and the number of bottles ordered."
      ]
    },
    {
      "cell_type": "code",
      "metadata": {
        "colab_type": "code",
        "id": "SeTJb51SKs_W",
        "colab": {}
      },
      "source": [
        "from google.colab import auth\n",
        "auth.authenticate_user()\n",
        "print('Authenticated')"
      ],
      "execution_count": null,
      "outputs": []
    },
    {
      "cell_type": "code",
      "metadata": {
        "colab_type": "code",
        "id": "cLh05lDpJ4wj",
        "colab": {}
      },
      "source": [
        "# Save output in a variable `df`\n",
        "\n",
        "%%bigquery --project predictiondeployment df\n",
        "SELECT \n",
        "  * \n",
        "FROM `bigquery-public-data.iowa_liquor_sales.sales`\n",
        "where store_number  = '2633'"
      ],
      "execution_count": null,
      "outputs": []
    },
    {
      "cell_type": "markdown",
      "metadata": {
        "colab_type": "text",
        "id": "VdbOWXiTWM2T"
      },
      "source": [
        "Let's take a glance at the data."
      ]
    },
    {
      "cell_type": "code",
      "metadata": {
        "colab_type": "code",
        "id": "ojHE-iCCWIhz",
        "colab": {}
      },
      "source": [
        "df.head()"
      ],
      "execution_count": null,
      "outputs": []
    },
    {
      "cell_type": "code",
      "metadata": {
        "id": "rsbUCqS7p69J",
        "colab_type": "code",
        "colab": {}
      },
      "source": [
        "df.describe()\n",
        "from datetime import datetime"
      ],
      "execution_count": null,
      "outputs": []
    },
    {
      "cell_type": "code",
      "metadata": {
        "id": "vbLFfG7tqNA3",
        "colab_type": "code",
        "colab": {}
      },
      "source": [
        "df_single_item_aggregate =df[['date','sale_dollars']]\n",
        "df_single_item_aggregate['date'] = pd.to_datetime(df_single_item_aggregate['date'])\n",
        "#print(type(date_object))\n",
        "#print(date_object) "
      ],
      "execution_count": null,
      "outputs": []
    },
    {
      "cell_type": "code",
      "metadata": {
        "id": "D1CEddh4qw_c",
        "colab_type": "code",
        "colab": {}
      },
      "source": [
        "df_single_item_aggregate = df_single_item_aggregate.groupby(['date']).sum().rename_axis('date')"
      ],
      "execution_count": null,
      "outputs": []
    },
    {
      "cell_type": "code",
      "metadata": {
        "id": "47LioiQWsr-C",
        "colab_type": "code",
        "colab": {}
      },
      "source": [
        "#df_single_item_aggregate['flag'] = pd.Series(np.where(df_single_item_aggregate.index >= np.datetime64('2020-01-25'), 1, 0),index=df_single_item_aggregate.index)\n",
        "df_single_item_aggregate\n"
      ],
      "execution_count": null,
      "outputs": []
    },
    {
      "cell_type": "code",
      "metadata": {
        "id": "WoOEZZkhT8XV",
        "colab_type": "code",
        "colab": {}
      },
      "source": [
        "def split_data(data, split_date):\n",
        "    return data[data.index <= split_date].copy(), \\\n",
        "           data[data.index >  split_date].copy()"
      ],
      "execution_count": null,
      "outputs": []
    },
    {
      "cell_type": "code",
      "metadata": {
        "id": "kOsMKEuH68p-",
        "colab_type": "code",
        "colab": {}
      },
      "source": [
        "train, test = split_data(df_single_item_aggregate, '2020-04-01')\n",
        "\n",
        "plt.figure(figsize=(20,10))\n",
        "plt.xlabel('time')\n",
        "plt.ylabel('close')\n",
        "plt.plot(train.index,train)\n",
        "plt.plot(test.index,test)\n",
        "plt.show()\n"
      ],
      "execution_count": null,
      "outputs": []
    },
    {
      "cell_type": "code",
      "metadata": {
        "id": "_VCzq15Qov5Y",
        "colab_type": "code",
        "colab": {}
      },
      "source": [
        "train.describe()"
      ],
      "execution_count": null,
      "outputs": []
    },
    {
      "cell_type": "markdown",
      "metadata": {
        "id": "XY9QMcdxkqki",
        "colab_type": "text"
      },
      "source": [
        "# xgboost Model"
      ]
    },
    {
      "cell_type": "code",
      "metadata": {
        "id": "xBZzpZXtiXJe",
        "colab_type": "code",
        "colab": {}
      },
      "source": [
        "def create_features(df):\n",
        "    \"\"\"\n",
        "    Creates time series features from datetime index\n",
        "    \"\"\"\n",
        "    df['date'] = df.index\n",
        "    df['dayofweek'] = df['date'].dt.dayofweek\n",
        "    df['quarter'] = df['date'].dt.quarter\n",
        "    df['month'] = df['date'].dt.month\n",
        "    df['year'] = df['date'].dt.year\n",
        "    df['dayofyear'] = df['date'].dt.dayofyear\n",
        "    df['dayofmonth'] = df['date'].dt.day\n",
        "    df['weekofyear'] = df['date'].dt.weekofyear\n",
        "    df['flag'] = pd.Series(np.where(df['date'] >= np.datetime64('2020-01-25'), 1, 0), index=df.index)\n",
        "    \n",
        "    X = df[['dayofweek','quarter','month','year',\n",
        "           'dayofyear','dayofmonth','weekofyear','flag']]\n",
        "    return X"
      ],
      "execution_count": null,
      "outputs": []
    },
    {
      "cell_type": "code",
      "metadata": {
        "id": "hp-SoRNzie3C",
        "colab_type": "code",
        "colab": {}
      },
      "source": [
        "X_train, y_train = create_features(train), train['sale_dollars']\n",
        "X_test, y_test   = create_features(test), test['sale_dollars']\n",
        "\n",
        "X_train.shape, y_train.shape"
      ],
      "execution_count": null,
      "outputs": []
    },
    {
      "cell_type": "code",
      "metadata": {
        "id": "2bUeykQ1ijJs",
        "colab_type": "code",
        "colab": {}
      },
      "source": [
        "X_train.head()\n",
        "\n",
        "#"
      ],
      "execution_count": null,
      "outputs": []
    },
    {
      "cell_type": "code",
      "metadata": {
        "id": "1DWuQirBKKWW",
        "colab_type": "code",
        "colab": {}
      },
      "source": [
        "#df['flag'] = pd.Series(np.where(df['date'] >= np.datetime64('2020-01-25'), 1, 0), index=df.index)\n",
        "X_train.tail()"
      ],
      "execution_count": null,
      "outputs": []
    },
    {
      "cell_type": "code",
      "metadata": {
        "id": "8qdi09dLilxj",
        "colab_type": "code",
        "colab": {}
      },
      "source": [
        "reg = xgb.XGBRegressor(n_estimators=1000)\n",
        "reg.fit(X_train, y_train,\n",
        "        eval_set=[(X_train, y_train), (X_test, y_test)],\n",
        "        early_stopping_rounds=500, #stop if 50 consequent rounds without decrease of error\n",
        "        verbose=False) # Change verbose to True if you want to see it train"
      ],
      "execution_count": null,
      "outputs": []
    },
    {
      "cell_type": "code",
      "metadata": {
        "id": "ZuaM8Ip3i7VK",
        "colab_type": "code",
        "colab": {}
      },
      "source": [
        "xgb.plot_importance(reg, height=0.9)\n"
      ],
      "execution_count": null,
      "outputs": []
    },
    {
      "cell_type": "code",
      "metadata": {
        "id": "pM-oLoWnjYMj",
        "colab_type": "code",
        "colab": {}
      },
      "source": [
        "def plot_performance(base_data, date_from, date_to, title=None):\n",
        "    plt.figure(figsize=(15,3))\n",
        "    if title == None:\n",
        "        plt.title('From {0} To {1}'.format(date_from, date_to))\n",
        "    else:\n",
        "        plt.title(title)\n",
        "    plt.xlabel('time')\n",
        "    plt.ylabel('close')\n",
        "    plt.plot(df_single_item_aggregate.index,df_single_item_aggregate, label='data')\n",
        "    plt.plot(X_test.index,X_test_pred, label='prediction')\n",
        "    plt.legend()\n",
        "    plt.xlim(left=date_from, right=date_to)"
      ],
      "execution_count": null,
      "outputs": []
    },
    {
      "cell_type": "code",
      "metadata": {
        "id": "7Lka4QPrjez1",
        "colab_type": "code",
        "colab": {}
      },
      "source": [
        "xgb.plot_importance(reg, height=0.9)\n",
        "X_test_pred = reg.predict(X_test)\n",
        "    \n",
        "plot_performance(df_single_item_aggregate, df_single_item_aggregate.index[0].date(), df_single_item_aggregate.index[-1].date(),\n",
        "                 'Original and Predicted Data')\n",
        "\n",
        "plot_performance(y_test, y_test.index[0].date(), y_test.index[-1].date(),\n",
        "                 'Test and Predicted Data')\n",
        "\n",
        "#plot_performance(y_test, '2019-7-01', '2019-8-01', 'Snapshot')\n",
        "\n",
        "plt.legend()\n",
        "\n",
        "plt.show()"
      ],
      "execution_count": null,
      "outputs": []
    },
    {
      "cell_type": "code",
      "metadata": {
        "id": "zJJcSEyYjjr1",
        "colab_type": "code",
        "colab": {}
      },
      "source": [
        "def mean_absolute_percentage_error(y_true, y_pred): \n",
        "    \"\"\"Calculates MAPE given y_true and y_pred\"\"\"\n",
        "    y_true, y_pred = np.array(y_true), np.array(y_pred)\n",
        "    return np.mean(np.abs((y_true - y_pred) / y_true)) * 100\n",
        "mean_absolute_percentage_error(y_test,X_test_pred)"
      ],
      "execution_count": null,
      "outputs": []
    },
    {
      "cell_type": "code",
      "metadata": {
        "id": "yLNawTH-_0tH",
        "colab_type": "code",
        "colab": {}
      },
      "source": [
        "def calc_smape(y_hat, y):\n",
        "        return 100/len(y) * np.sum(2 * np.abs(y_hat - y) / (np.abs(y) + np.abs(y_hat)))"
      ],
      "execution_count": null,
      "outputs": []
    },
    {
      "cell_type": "code",
      "metadata": {
        "id": "nrlsJiFM_2Lw",
        "colab_type": "code",
        "colab": {}
      },
      "source": [
        "calc_smape(y_test,X_test_pred)"
      ],
      "execution_count": null,
      "outputs": []
    },
    {
      "cell_type": "code",
      "metadata": {
        "id": "lXBtq1oHkVok",
        "colab_type": "code",
        "colab": {}
      },
      "source": [
        "error_by_week = []\n",
        "random_weeks = X_test[['year', 'weekofyear']].sample(10)\n",
        "for week in random_weeks.iterrows():\n",
        "    index = (X_test.year == week[1].year) & \\\n",
        "            (X_test.weekofyear == week[1].weekofyear)\n",
        "    error_by_week.append(mean_absolute_percentage_error(y_test[index], X_test_pred[index]))\n",
        "pd.Series(error_by_week, index=random_weeks.index)"
      ],
      "execution_count": null,
      "outputs": []
    },
    {
      "cell_type": "markdown",
      "metadata": {
        "id": "Ho9N-glhJXmR",
        "colab_type": "text"
      },
      "source": [
        "## Weekly Prediction"
      ]
    },
    {
      "cell_type": "code",
      "metadata": {
        "id": "fYgu0UEDAUf8",
        "colab_type": "code",
        "colab": {}
      },
      "source": [
        "%%bigquery --project predictiondeployment df2\n",
        "SELECT EXTRACT(YEAR FROM date) AS year, EXTRACT(WEEK FROM date) AS week, sum(sale_dollars) as sales\n",
        "FROM `bigquery-public-data.iowa_liquor_sales.sales`\n",
        "where store_number  = '2633' and date < '2020-03-01'\n",
        "group by 1,2\n",
        "order by 1,2"
      ],
      "execution_count": null,
      "outputs": []
    },
    {
      "cell_type": "code",
      "metadata": {
        "id": "lfxBFfMJAleU",
        "colab_type": "code",
        "colab": {}
      },
      "source": [
        "df2.head(5)"
      ],
      "execution_count": null,
      "outputs": []
    },
    {
      "cell_type": "code",
      "metadata": {
        "id": "IYpyKE0SAbn1",
        "colab_type": "code",
        "colab": {}
      },
      "source": [
        "from pandas import read_csv\n",
        "from sklearn.preprocessing import MinMaxScaler\n",
        "series=np.array(df2['sales'])\n",
        "def plot_series(time, series, format=\"-\", start=0, end=None):\n",
        "    plt.plot(time[start:end], series[start:end], format)\n",
        "    plt.xlabel(\"Time\")\n",
        "    plt.ylabel(\"Value\")\n",
        "    plt.grid(True)\n",
        "#values = series\n",
        "#values = values.reshape((len(values), 1))\n",
        "# train the normalization\n",
        "#scaler = MinMaxScaler(feature_range=(0, 1))\n",
        "#scaler = scaler.fit(values)\n",
        "#print('Min: %f, Max: %f' % (scaler.data_min_, scaler.data_max_))\n",
        "# normalize the dataset and print the first 5 rows\n",
        "#normalized = scaler.transform(values)\n",
        "#series=normalized.ravel()\n",
        "\n",
        "import csv\n",
        "time_step = []\n",
        "temps = []\n",
        "\n",
        "\n",
        "step=0\n",
        "for row in range(len(df2)):\n",
        "  time_step.append(step)\n",
        "  step = step + 1\n",
        "\n",
        "time = np.array(time_step)\n",
        "plt.figure(figsize=(25, 6))\n",
        "plot_series(time, series)\n"
      ],
      "execution_count": null,
      "outputs": []
    },
    {
      "cell_type": "code",
      "metadata": {
        "id": "tclfNg6JBAvI",
        "colab_type": "code",
        "colab": {}
      },
      "source": [
        "import datetime\n",
        "base = datetime.datetime.today()\n",
        "date_list = [base - datetime.timedelta(days=x) for x in range(len(df2))]"
      ],
      "execution_count": null,
      "outputs": []
    },
    {
      "cell_type": "code",
      "metadata": {
        "id": "LsZqTgjuBGSD",
        "colab_type": "code",
        "colab": {}
      },
      "source": [
        "df2['date']=sorted(date_list)"
      ],
      "execution_count": null,
      "outputs": []
    },
    {
      "cell_type": "code",
      "metadata": {
        "id": "Oc9EiCR1BYCp",
        "colab_type": "code",
        "colab": {}
      },
      "source": [
        "df2.head(5)"
      ],
      "execution_count": null,
      "outputs": []
    },
    {
      "cell_type": "code",
      "metadata": {
        "id": "98BeDuf6Bki4",
        "colab_type": "code",
        "colab": {}
      },
      "source": [
        "df2['date'][370:371] #59\n",
        "df2.drop(['year','week'],axis=1, inplace=True)"
      ],
      "execution_count": null,
      "outputs": []
    },
    {
      "cell_type": "code",
      "metadata": {
        "id": "oaoNzRN6CSTu",
        "colab_type": "code",
        "colab": {}
      },
      "source": [
        "'''df2.index=df2['date']\n",
        "df2.drop('date',axis=1, inplace=True)"
      ],
      "execution_count": null,
      "outputs": []
    },
    {
      "cell_type": "code",
      "metadata": {
        "id": "_Rp_3DLSC77i",
        "colab_type": "code",
        "colab": {}
      },
      "source": [
        "df2.head(5)"
      ],
      "execution_count": null,
      "outputs": []
    },
    {
      "cell_type": "code",
      "metadata": {
        "id": "2bY4Vg1nB7Yf",
        "colab_type": "code",
        "colab": {}
      },
      "source": [
        "train, test = split_data(df2, '2020-05-16')\n",
        "\n",
        "plt.figure(figsize=(20,10))\n",
        "plt.xlabel('date')\n",
        "plt.ylabel('sales')\n",
        "plt.plot(train.index,train)\n",
        "plt.plot(test.index,test)\n",
        "plt.show()"
      ],
      "execution_count": null,
      "outputs": []
    },
    {
      "cell_type": "code",
      "metadata": {
        "id": "G3_MEFfODF1d",
        "colab_type": "code",
        "colab": {}
      },
      "source": [
        "X_train, y_train = create_features(train), train['sales']\n",
        "X_test, y_test   = create_features(test), test['sales']\n",
        "\n",
        "X_train.shape, y_train.shape"
      ],
      "execution_count": null,
      "outputs": []
    },
    {
      "cell_type": "code",
      "metadata": {
        "id": "hW3hraEEDfqA",
        "colab_type": "code",
        "colab": {}
      },
      "source": [
        "reg = xgb.XGBRegressor(n_estimators=1000)\n",
        "reg.fit(X_train, y_train,\n",
        "        eval_set=[(X_train, y_train), (X_test, y_test)],\n",
        "        early_stopping_rounds=50, #stop if 50 consequent rounds without decrease of error\n",
        "        verbose=True) # Change verbose to True if you want to see it train"
      ],
      "execution_count": null,
      "outputs": []
    },
    {
      "cell_type": "code",
      "metadata": {
        "id": "Vzy31op_Dq8l",
        "colab_type": "code",
        "colab": {}
      },
      "source": [
        "xgb.plot_importance(reg, height=0.9)\n",
        "X_test_pred = reg.predict(X_test)\n",
        "    \n",
        "plot_performance(df2, df2.index[0].date(), df2.index[-1].date(),\n",
        "                 'Original and Predicted Data')\n",
        "\n",
        "plot_performance(y_test, y_test.index[0].date(), y_test.index[-1].date(),\n",
        "                 'Test and Predicted Data')\n",
        "\n",
        "#plot_performance(y_test, '2019-7-01', '2019-8-01', 'Snapshot')\n",
        "\n",
        "plt.legend()\n",
        "\n",
        "plt.show()"
      ],
      "execution_count": null,
      "outputs": []
    },
    {
      "cell_type": "markdown",
      "metadata": {
        "id": "hNhIZtp9kf7J",
        "colab_type": "text"
      },
      "source": [
        "# LSTM Model\n",
        "\n"
      ]
    },
    {
      "cell_type": "code",
      "metadata": {
        "id": "rzqEY1-okYcz",
        "colab_type": "code",
        "colab": {}
      },
      "source": [
        "#importing required libraries\n",
        "from sklearn.preprocessing import MinMaxScaler\n",
        "from keras.models import Sequential\n",
        "from keras.layers import Dense, Dropout, LSTM"
      ],
      "execution_count": null,
      "outputs": []
    },
    {
      "cell_type": "code",
      "metadata": {
        "id": "wHQ4MTsGkcGn",
        "colab_type": "code",
        "colab": {}
      },
      "source": [
        "TRAIN_SPLIT = 867\n",
        "tf.random.set_seed(13)"
      ],
      "execution_count": null,
      "outputs": []
    },
    {
      "cell_type": "code",
      "metadata": {
        "id": "0VeOvURWllub",
        "colab_type": "code",
        "colab": {}
      },
      "source": [
        "\n",
        "new_data=df_single_item_aggregate\n",
        "#setting index\n",
        "new_data.index = df_single_item_aggregate.index\n",
        "#new_data.drop('Date', axis=1, inplace=True)\n",
        "\n",
        "#creating train and test sets\n",
        "dataset = new_data.values\n"
      ],
      "execution_count": null,
      "outputs": []
    },
    {
      "cell_type": "code",
      "metadata": {
        "id": "_9skbMrJluV2",
        "colab_type": "code",
        "colab": {}
      },
      "source": [
        "train = df_single_item_aggregate[0:TRAIN_SPLIT]\n",
        "valid = df_single_item_aggregate[TRAIN_SPLIT:]\n",
        "\n",
        "\n",
        "#converting dataset into x_train and y_train\n",
        "scaler = MinMaxScaler(feature_range=(0, 1))\n",
        "scaled_data = scaler.fit_transform(dataset)\n",
        "\n",
        "x_train, y_train = [], []\n",
        "for i in range(60,len(train)):\n",
        "    x_train.append(scaled_data[i-60:i,0])\n",
        "    y_train.append(scaled_data[i,0])\n",
        "x_train, y_train = np.array(x_train), np.array(y_train)\n",
        "\n",
        "x_train = np.reshape(x_train, (x_train.shape[0],x_train.shape[1],1))"
      ],
      "execution_count": null,
      "outputs": []
    },
    {
      "cell_type": "code",
      "metadata": {
        "id": "9eBL__oFmoxn",
        "colab_type": "code",
        "colab": {}
      },
      "source": [
        "model = Sequential()\n",
        "model.add(LSTM(units=50, return_sequences=True, input_shape=(x_train.shape[1],1)))\n",
        "model.add(LSTM(units=50))\n",
        "model.add(Dense(1))\n",
        "\n",
        "model.compile(loss='mean_squared_error', optimizer='adam')\n",
        "model.fit(x_train, y_train, epochs=1, batch_size=1, verbose=2)\n",
        "\n",
        "#predicting 246 values, using past 60 from the train data\n",
        "inputs = new_data[len(new_data) - len(valid) - 60:].values\n",
        "inputs = inputs.reshape(-1,1)\n",
        "inputs  = scaler.transform(inputs)\n",
        "\n",
        "X_test = []\n",
        "for i in range(60,inputs.shape[0]):\n",
        "    X_test.append(inputs[i-60:i,0])\n",
        "X_test = np.array(X_test)\n",
        "\n",
        "X_test = np.reshape(X_test, (X_test.shape[0],X_test.shape[1],1))\n",
        "sale_dollars = model.predict(X_test)\n",
        "sale_dollars = scaler.inverse_transform(sale_dollars)"
      ],
      "execution_count": null,
      "outputs": []
    },
    {
      "cell_type": "code",
      "metadata": {
        "id": "7zUvroGenmQC",
        "colab_type": "code",
        "colab": {}
      },
      "source": [
        "rms=np.sqrt(np.mean(np.power((valid-sale_dollars),2)))\n",
        "rms"
      ],
      "execution_count": null,
      "outputs": []
    },
    {
      "cell_type": "code",
      "metadata": {
        "id": "tS6FXDK3nvnO",
        "colab_type": "code",
        "colab": {}
      },
      "source": [
        "#for plotting\n",
        "train = df_single_item_aggregate[0:TRAIN_SPLIT]\n",
        "valid = df_single_item_aggregate[TRAIN_SPLIT:]\n",
        "valid['Predictions'] = sale_dollars\n",
        "plt.figure(figsize=(15,5))\n",
        "plt.xlabel('time')\n",
        "plt.ylabel('close')\n",
        "#plt.plot(train.index,energy_hourly, label='data')\n",
        "plt.plot(train['sale_dollars'])\n",
        "plt.plot(valid[['sale_dollars','Predictions']])\n",
        "plt.show()\n"
      ],
      "execution_count": null,
      "outputs": []
    },
    {
      "cell_type": "code",
      "metadata": {
        "id": "TR-aPTCMqT-o",
        "colab_type": "code",
        "colab": {}
      },
      "source": [
        ""
      ],
      "execution_count": null,
      "outputs": []
    }
  ]
}